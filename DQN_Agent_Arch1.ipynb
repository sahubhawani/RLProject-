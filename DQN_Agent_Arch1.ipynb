{
 "cells": [
  {
   "cell_type": "markdown",
   "metadata": {},
   "source": [
    "### Cab-Driver Agent"
   ]
  },
  {
   "cell_type": "code",
   "execution_count": 1,
   "metadata": {
    "scrolled": true
   },
   "outputs": [
    {
     "ename": "ImportError",
     "evalue": "Keras requires TensorFlow 2.2 or higher. Install TensorFlow via `pip install tensorflow`",
     "output_type": "error",
     "traceback": [
      "\u001b[1;31m---------------------------------------------------------------------------\u001b[0m",
      "\u001b[1;31mModuleNotFoundError\u001b[0m                       Traceback (most recent call last)",
      "\u001b[1;32m~\\anaconda3\\lib\\site-packages\\keras\\__init__.py\u001b[0m in \u001b[0;36m<module>\u001b[1;34m\u001b[0m\n\u001b[0;32m      2\u001b[0m \u001b[1;32mtry\u001b[0m\u001b[1;33m:\u001b[0m\u001b[1;33m\u001b[0m\u001b[1;33m\u001b[0m\u001b[0m\n\u001b[1;32m----> 3\u001b[1;33m     \u001b[1;32mfrom\u001b[0m \u001b[0mtensorflow\u001b[0m\u001b[1;33m.\u001b[0m\u001b[0mkeras\u001b[0m\u001b[1;33m.\u001b[0m\u001b[0mlayers\u001b[0m\u001b[1;33m.\u001b[0m\u001b[0mexperimental\u001b[0m\u001b[1;33m.\u001b[0m\u001b[0mpreprocessing\u001b[0m \u001b[1;32mimport\u001b[0m \u001b[0mRandomRotation\u001b[0m\u001b[1;33m\u001b[0m\u001b[1;33m\u001b[0m\u001b[0m\n\u001b[0m\u001b[0;32m      4\u001b[0m \u001b[1;32mexcept\u001b[0m \u001b[0mImportError\u001b[0m\u001b[1;33m:\u001b[0m\u001b[1;33m\u001b[0m\u001b[1;33m\u001b[0m\u001b[0m\n",
      "\u001b[1;31mModuleNotFoundError\u001b[0m: No module named 'tensorflow'",
      "\nDuring handling of the above exception, another exception occurred:\n",
      "\u001b[1;31mImportError\u001b[0m                               Traceback (most recent call last)",
      "\u001b[1;32m<ipython-input-1-d77325cc5875>\u001b[0m in \u001b[0;36m<module>\u001b[1;34m\u001b[0m\n\u001b[0;32m     11\u001b[0m \u001b[1;33m\u001b[0m\u001b[0m\n\u001b[0;32m     12\u001b[0m \u001b[1;31m# for building DQN model\u001b[0m\u001b[1;33m\u001b[0m\u001b[1;33m\u001b[0m\u001b[1;33m\u001b[0m\u001b[0m\n\u001b[1;32m---> 13\u001b[1;33m \u001b[1;32mfrom\u001b[0m \u001b[0mkeras\u001b[0m \u001b[1;32mimport\u001b[0m \u001b[0mlayers\u001b[0m\u001b[1;33m\u001b[0m\u001b[1;33m\u001b[0m\u001b[0m\n\u001b[0m\u001b[0;32m     14\u001b[0m \u001b[1;32mfrom\u001b[0m \u001b[0mkeras\u001b[0m \u001b[1;32mimport\u001b[0m \u001b[0mSequential\u001b[0m\u001b[1;33m\u001b[0m\u001b[1;33m\u001b[0m\u001b[0m\n\u001b[0;32m     15\u001b[0m \u001b[1;32mfrom\u001b[0m \u001b[0mkeras\u001b[0m\u001b[1;33m.\u001b[0m\u001b[0mlayers\u001b[0m \u001b[1;32mimport\u001b[0m \u001b[0mDense\u001b[0m\u001b[1;33m,\u001b[0m \u001b[0mActivation\u001b[0m\u001b[1;33m,\u001b[0m \u001b[0mFlatten\u001b[0m\u001b[1;33m\u001b[0m\u001b[1;33m\u001b[0m\u001b[0m\n",
      "\u001b[1;32m~\\anaconda3\\lib\\site-packages\\keras\\__init__.py\u001b[0m in \u001b[0;36m<module>\u001b[1;34m\u001b[0m\n\u001b[0;32m      4\u001b[0m \u001b[1;32mexcept\u001b[0m \u001b[0mImportError\u001b[0m\u001b[1;33m:\u001b[0m\u001b[1;33m\u001b[0m\u001b[1;33m\u001b[0m\u001b[0m\n\u001b[0;32m      5\u001b[0m     raise ImportError(\n\u001b[1;32m----> 6\u001b[1;33m         \u001b[1;34m'Keras requires TensorFlow 2.2 or higher. '\u001b[0m\u001b[1;33m\u001b[0m\u001b[1;33m\u001b[0m\u001b[0m\n\u001b[0m\u001b[0;32m      7\u001b[0m         'Install TensorFlow via `pip install tensorflow`')\n\u001b[0;32m      8\u001b[0m \u001b[1;33m\u001b[0m\u001b[0m\n",
      "\u001b[1;31mImportError\u001b[0m: Keras requires TensorFlow 2.2 or higher. Install TensorFlow via `pip install tensorflow`"
     ]
    }
   ],
   "source": [
    "# Importing libraries\n",
    "import numpy as np\n",
    "import random\n",
    "import math\n",
    "from collections import deque\n",
    "import collections\n",
    "import pickle\n",
    "import pylab\n",
    "import sys\n",
    "import os\n",
    "\n",
    "# for building DQN model\n",
    "from keras import layers\n",
    "from keras import Sequential\n",
    "from keras.layers import Dense, Activation, Flatten\n",
    "from keras.optimizers import Adam\n",
    "\n",
    "# for plotting graphs\n",
    "import matplotlib.pyplot as plt\n",
    "\n",
    "# Import the environment\n",
    "from Env import CabDriver"
   ]
  },
  {
   "cell_type": "code",
   "execution_count": null,
   "metadata": {},
   "outputs": [],
   "source": [
    "!pip install tensorflow"
   ]
  },
  {
   "cell_type": "markdown",
   "metadata": {},
   "source": [
    "#### Defining Time Matrix"
   ]
  },
  {
   "cell_type": "code",
   "execution_count": null,
   "metadata": {},
   "outputs": [],
   "source": [
    "# Loading the time matrix provided\n",
    "Time_matrix = np.load(\"TM.npy\").astype(\"int\")"
   ]
  },
  {
   "cell_type": "code",
   "execution_count": null,
   "metadata": {},
   "outputs": [],
   "source": [
    "Time_matrix[1][2]"
   ]
  },
  {
   "cell_type": "markdown",
   "metadata": {},
   "source": [
    "#### Tracking the state-action pairs for checking convergence\n"
   ]
  },
  {
   "cell_type": "code",
   "execution_count": null,
   "metadata": {},
   "outputs": [],
   "source": [
    "#Dictionary to store Q-values predicted by model for each possible actions\n",
    "Q_dict = collections.defaultdict(dict)\n",
    "\n"
   ]
  },
  {
   "cell_type": "code",
   "execution_count": null,
   "metadata": {},
   "outputs": [],
   "source": [
    "# Initialising states to be tracked\n",
    "def initialise_tracking_states():\n",
    "    sample_q_values = [((3,22,0),(5,1)),((1,14,6),(3,1)), ((3,6,2),(5,1)), ((3,6,2),(3,1))]\n",
    "\n",
    "    for q_values in sample_q_values:\n",
    "        state = q_values[0]\n",
    "        action = q_values[1]\n",
    "        States_track[state][action] = []"
   ]
  },
  {
   "cell_type": "code",
   "execution_count": null,
   "metadata": {},
   "outputs": [],
   "source": [
    "#Dictionary to track state-action pairs\n",
    "States_track = collections.defaultdict(dict)"
   ]
  },
  {
   "cell_type": "code",
   "execution_count": null,
   "metadata": {},
   "outputs": [],
   "source": [
    "# Defining a function which will add new Q-values to the Q-dictionary. \n",
    "def add_to_dict(state, action, q_value):\n",
    "    if(state in Q_dict.keys() and tuple(action) in Q_dict[state].keys()):\n",
    "        Q_dict[state][tuple(action)].append(q_value)\n",
    "    else:\n",
    "        Q_dict[state][tuple(action)] = []\n",
    "        Q_dict[state][tuple(action)].append(q_value)"
   ]
  },
  {
   "cell_type": "code",
   "execution_count": null,
   "metadata": {},
   "outputs": [],
   "source": [
    "#Save the Q-values from Q-Dictionary for tracking\n",
    "def save_tracking_states():\n",
    "    for state in States_track.keys():\n",
    "        for action in States_track[state].keys():\n",
    "            if state in Q_dict and action in Q_dict[state]:\n",
    "                States_track[state][action].append(Q_dict[state][action]) "
   ]
  },
  {
   "cell_type": "code",
   "execution_count": null,
   "metadata": {},
   "outputs": [],
   "source": []
  },
  {
   "cell_type": "code",
   "execution_count": null,
   "metadata": {},
   "outputs": [],
   "source": []
  },
  {
   "cell_type": "code",
   "execution_count": null,
   "metadata": {},
   "outputs": [],
   "source": [
    "#Defining a function to save the Q-dictionary as a pickle file\n",
    "def save_obj(obj, name ):\n",
    "    with open(name + '.pkl', 'wb') as f:\n",
    "        pickle.dump(obj, f, pickle.HIGHEST_PROTOCOL)"
   ]
  },
  {
   "cell_type": "markdown",
   "metadata": {},
   "source": [
    "### Agent Class\n",
    "\n",
    "If you are using this framework, you need to fill the following to complete the following code block:\n",
    "1. State and Action Size\n",
    "2. Hyperparameters\n",
    "3. Create a neural-network model in function 'build_model()'\n",
    "4. Define epsilon-greedy strategy in function 'get_action()'\n",
    "5. Complete the function 'append_sample()'. This function appends the recent experience tuple <state, action, reward, new-state> to the memory\n",
    "6. Complete the 'train_model()' function with following logic:\n",
    "   - If the memory size is greater than mini-batch size, you randomly sample experiences from memory as per the mini-batch size and do the following:\n",
    "      - Initialise your input and output batch for training the model\n",
    "      - Calculate the target Q value for each sample: reward + gamma*max(Q(s'a,))\n",
    "      - Get Q(s', a) values from the last trained model\n",
    "      - Update the input batch as your encoded state and output batch as your Q-values\n",
    "      - Then fit your DQN model using the updated input and output batch."
   ]
  },
  {
   "cell_type": "code",
   "execution_count": null,
   "metadata": {},
   "outputs": [],
   "source": [
    "class DQNAgent:\n",
    "    def __init__(self, state_size, action_size):\n",
    "        # Define size of state and action\n",
    "        self.state_size = state_size\n",
    "        self.action_size = action_size\n",
    "\n",
    "        # Write here: Specify you hyper parameters for the DQN\n",
    "        self.discount_factor = 0.95\n",
    "        self.learning_rate =  0.001       \n",
    "        self.epsilon_max = 1\n",
    "        self.epsilon_decay = 0.0003\n",
    "        self.epsilon_min = 0\n",
    "        \n",
    "        self.batch_size = 32        \n",
    "        # create replay memory using deque\n",
    "        self.memory = deque(maxlen=2000)\n",
    "\n",
    "        # create main model and target model\n",
    "        self.model = self.build_model()\n",
    "        self.target_model = self.build_model()\n",
    "        \n",
    "        # initialize target model\n",
    "        self.update_target_model()\n",
    "    # approximate Q function using Neural Network\n",
    "    def build_model(self):\n",
    "        model = Sequential()\n",
    "        # Write your code here: Add layers to your neural nets       \n",
    "        \n",
    "        # hidden layers\n",
    "        model.add(Dense(32, input_dim=self.state_size, activation='relu', kernel_initializer='he_uniform'))\n",
    "        model.add(Dense(32, activation='relu', kernel_initializer='he_uniform'))\n",
    "\n",
    "        # the output layer: output is of size num_actions\n",
    "        model.add(Dense(self.action_size, activation='relu', kernel_initializer='he_uniform'))\n",
    "        \n",
    "        model.compile(loss='mse',optimizer=Adam(lr=self.learning_rate))\n",
    "        \n",
    "        #model summary\n",
    "        model.summary()\n",
    "        return model\n",
    "\n",
    "    #save the model graph as json\n",
    "    def save_model_graph(self):\n",
    "        # serialize model to JSON\n",
    "        model_json = self.model.to_json()\n",
    "        #with open(\"./save_model/cabdriver_dqn_model.json\", \"w\") as json_file:\n",
    "        with open(\"cabdriver_dqn_model.json\", \"w\") as json_file:\n",
    "            json_file.write(model_json)\n",
    "    \n",
    "    # after some time interval update the target model to be same with model\n",
    "    def update_target_model(self):\n",
    "        '''\n",
    "        TODO:\n",
    "        Update the target Q-value network to current Q-value network after training for a episode. This means that weights an\n",
    "        biases of target Q-value network will become same as current Q-value network.\n",
    "        '''\n",
    "        self.target_model.set_weights(self.model.get_weights())\n",
    "\n",
    "\n",
    "\n",
    "    def get_action(self, state):\n",
    "    # Write your code here:\n",
    "    # get action from model using epsilon-greedy policy\n",
    "    # Decay in ε after we generate each sample from the environment       \n",
    "        ev = CabDriver()\n",
    "        possible_action_index, possible_actions = ev.requests(state)\n",
    "        \n",
    "    # get action from model using epsilon-greedy policy\n",
    "    # Decay in ε after we generate each sample from the environment       \n",
    "        if np.random.rand() <= self.epsilon_max:\n",
    "            # explore: choose a random action from all possible actions\n",
    "            # in case of cartpole this will randomly choose an action between 0 and 1\n",
    "            return random.choice(possible_actions)\n",
    "        else:\n",
    "            #encode the state\n",
    "            en_state = ev.state_encod_arch1(state)\n",
    "            #reshape the state\n",
    "            en_state = en_state.reshape(1, self.state_size)\n",
    "            #Get the q-values for all the actions predicted by model\n",
    "            q_value = self.model.predict(en_state)\n",
    "            #Get the q-values for all the possible actions\n",
    "            possible_action_q_value = [q_value[0][p_value] for p_value in (possible_action_index + [20])]\n",
    "            #Get the max q-value index\n",
    "            best_action_index = np.argmax(possible_action_q_value)\n",
    "            #Get the possible actions based on max q-value\n",
    "            possible_action_value = possible_actions[best_action_index]\n",
    "            #add q-value to Q- Dictionary for checking the convergence\n",
    "            add_to_dict(state, possible_action_value, np.max(possible_action_q_value))\n",
    "            return possible_action_value \n",
    "        \n",
    "        \n",
    "        \n",
    "        \n",
    "\n",
    "\n",
    "    def append_sample(self, state, action, reward, next_state):\n",
    "    # Write your code here:\n",
    "    # save sample <s,a,r,s'> to the replay memory\n",
    "        # Adding sample to the memory. \n",
    "        self.memory.append((state, action, reward, next_state))\n",
    "    \n",
    "    \n",
    "    \n",
    "    # pick samples randomly from replay memory (with batch_size) and train the network\n",
    "    def train_model(self):\n",
    "        \n",
    "        ev = CabDriver()\n",
    "        \n",
    "        if len(self.memory) > self.batch_size:\n",
    "            # Sample batch from the memory\n",
    "            mini_batch = random.sample(self.memory, self.batch_size)\n",
    "            #initialoze the update_output and update_input\n",
    "            update_output = np.zeros((self.batch_size, self.state_size)) \n",
    "            update_input = np.zeros((self.batch_size, self.state_size)) \n",
    "            \n",
    "            actions, rewards = [], []\n",
    "            \n",
    "            #store the state, action, reward and next_state values\n",
    "            #from the mini batch in the separate variables\n",
    "            for i in range(self.batch_size):\n",
    "                state, action, reward, next_state = mini_batch[i]\n",
    "                \n",
    "                update_input[i] = ev.state_encod_arch1(state).reshape(1,self.state_size) #ev.state_encod_arch1(state).reshape(self.state_size)\n",
    "                actions.append(action)\n",
    "                rewards.append(reward)\n",
    "                update_output[i] = ev.state_encod_arch1(next_state).reshape(1,self.state_size) #ev.state_encod_arch1(next_state).reshape(self.state_size)\n",
    "            \n",
    "            #convert it into int type\n",
    "            update_input = update_input.astype('int')\n",
    "            update_output = update_output.astype('int')\n",
    "            \n",
    "                      \n",
    "            # 1. Predict the target from earlier model\n",
    "            \n",
    "            #initialize the target and target_qval\n",
    "            target = np.zeros((self.batch_size, action_size))\n",
    "            target_qval = np.zeros((self.batch_size, action_size))\n",
    "            \n",
    "            # predict the target q-values from states s\n",
    "            for i in range(len(update_input)):\n",
    "                target[i] = self.model.predict(update_input[i].reshape(1,self.state_size))\n",
    "                \n",
    "            # target for q-network\n",
    "                target_qval[i] = self.target_model.predict(update_output[i].reshape(1,self.state_size))\n",
    "                \n",
    "            # update the target values\n",
    "            for i in range(self.batch_size):\n",
    "                target[i][(list(action_space) + [[0,0]]).index(actions[i])] = rewards[i] + self.discount_factor * (np.amax(target_qval[i]))\n",
    "                \n",
    "            # 4. Fit your model and track the loss values\n",
    "            self.model.fit(update_input, target, batch_size=self.batch_size,epochs=1, verbose=0)\n",
    "\n",
    "\n",
    "\n",
    "\n",
    "    def save(self, name):\n",
    "        self.model.save(name)"
   ]
  },
  {
   "cell_type": "code",
   "execution_count": null,
   "metadata": {},
   "outputs": [],
   "source": [
    "Episodes = 1500\n",
    "STEPS = 24 * 30\n",
    "threshold = 30"
   ]
  },
  {
   "cell_type": "code",
   "execution_count": null,
   "metadata": {},
   "outputs": [],
   "source": [
    "# initialize tracking states\n",
    "initialise_tracking_states()"
   ]
  },
  {
   "cell_type": "markdown",
   "metadata": {},
   "source": [
    "### DQN block"
   ]
  },
  {
   "cell_type": "code",
   "execution_count": null,
   "metadata": {},
   "outputs": [],
   "source": [
    "# Call the environment\n",
    "env = CabDriver()\n",
    "action_space = env.reset()[0]\n",
    "state_space = env.reset()[1]\n",
    "\n",
    "# Call all the initialised variables of the environment\n",
    "action_size = len(action_space)+1 #len(env.requests(curr_state)[1])\n",
    "state_size = env.state_input[0].shape[0] + env.state_input[1].shape[0] + env.state_input[2].shape[0]\n",
    "\n",
    "#Call the DQN agent\n",
    "agent = DQNAgent(state_size=state_size , action_size=action_size)\n",
    "\n",
    "scores, episodes, avg_rewards= [], [],[]\n",
    "    \n",
    "for episode in range(Episodes):\n",
    "\n",
    "    curr_state=env.reset()[2]\n",
    "\n",
    "    time_steps = 0\n",
    "    reward = None\n",
    "    score = 0\n",
    "    \n",
    "    while time_steps < STEPS:\n",
    "        \n",
    "        # Write your code here\n",
    "        # 1. Pick epsilon-greedy action from possible actions for the current state\n",
    "        # 2. Evaluate your reward and next state\n",
    "        # 3. Append the experience to the memory\n",
    "        # 4. Train the model by calling function agent.train_model\n",
    "        # 5. Keep a track of rewards, Q-values, loss\n",
    "        \n",
    "        #Get the current action\n",
    "        curr_action = agent.get_action(curr_state)\n",
    "        \n",
    "        #Get the next state\n",
    "        next_state = env.next_state_func(curr_state, curr_action, Time_matrix)\n",
    "        \n",
    "        #Get the rewards\n",
    "        reward = env.reward_func(curr_state, curr_action, Time_matrix)\n",
    "        \n",
    "        #Append the sample to memory\n",
    "        agent.append_sample(curr_state, curr_action, reward, next_state)\n",
    "        \n",
    "        # every time step do the training\n",
    "        agent.train_model()\n",
    "        \n",
    "        #check if current action is (0,0)\n",
    "        #then increase the time step to 1\n",
    "        #else increase the value given by time matrix\n",
    "        if(curr_action[0] == 0 and curr_action[1] == 0):\n",
    "            time_steps +=1\n",
    "        else:\n",
    "            time_steps += Time_matrix[curr_action[0]-1][curr_action[1]-1][curr_state[1]][curr_state[2]]\n",
    "        \n",
    "        #store the rewards\n",
    "        score += reward\n",
    "        \n",
    "        #make the next state to current state\n",
    "        curr_state = next_state\n",
    "        \n",
    "        if time_steps >= STEPS:\n",
    "            \n",
    "            # every episode update the target model to be same with model\n",
    "            agent.update_target_model()\n",
    "            \n",
    "            #append the score and episode\n",
    "            scores.append(score)\n",
    "            episodes.append(episode)\n",
    "            pylab.plot(episodes, scores, 'b')\n",
    "            #pylab.savefig(\"./save_graph/cabdriver_dqn.png\")\n",
    "            pylab.savefig(\"cabdriver_dqn.png\")\n",
    "            print(\"episode:\", episode, \"  score:\", score, \"  memory length:\",\n",
    "                  len(agent.memory), \"  epsilon:\", agent.epsilon_max)\n",
    "            \n",
    "            #check if mean score of last 30 values\n",
    "            if np.mean(scores[-min(30, len(scores)):]) > 2500:\n",
    "                #agent.model.save_weights(\"./save_model/cabdriver_dqn.h5\")\n",
    "                agent.model.save_weights(\"cabdriver_dqn.h5\")\n",
    "                sys.exit()\n",
    "    \n",
    "    #Decay the epsilon\n",
    "    if agent.epsilon_max > agent.epsilon_min:\n",
    "        agent.epsilon_max = (agent.epsilon_min + (1 - agent.epsilon_min) * np.exp(-0.0009*episode))\n",
    "                \n",
    "    #save the model \n",
    "    if episode % 10 == 0:\n",
    "        #agent.model.save_weights(\"./save_model/cabdriver_dqn.h5\")\n",
    "        agent.model.save_weights(\"cabdriver_dqn.h5\")\n",
    "        \n",
    "    # make directory\n",
    "    if not os.path.exists(\"saved_pickle_files\"):\n",
    "        os.mkdir(\"saved_pickle_files\")\n",
    "\n",
    "    # save rewards_per_episode\n",
    "    save_obj(scores, \"saved_pickle_files/scores\")\n",
    "    \n",
    "    if ((episode+1)%threshold)==0:\n",
    "        save_tracking_states()\n",
    "        save_obj(States_track,'States_tracked')\n",
    "    \n",
    "    # plot results\n",
    "    with open('saved_pickle_files/scores.pkl', 'rb') as f:\n",
    "        scores = pickle.load(f)\n",
    "    \n",
    "    #plot episode and scores\n",
    "    plt.plot(list(range(len(scores))), scores)\n",
    "    plt.xlabel(\"episode number\")\n",
    "    plt.ylabel(\"scores\")\n",
    "\n",
    "    # save plots in saved_plots/ directory\n",
    "    plt.savefig('rewards.png')\n",
    "    \n",
    "    #append the mean scores\n",
    "    avg_rewards.append(np.mean(scores[-30:]))\n",
    "    \n",
    "    \n",
    "    #print the average rewards\n",
    "    #print(\"Average reward of last 30 episodes is {0}\".format(np.mean(scores[-30:]))) \n",
    "    \n",
    "        "
   ]
  },
  {
   "cell_type": "code",
   "execution_count": null,
   "metadata": {},
   "outputs": [],
   "source": [
    "time_steps"
   ]
  },
  {
   "cell_type": "code",
   "execution_count": null,
   "metadata": {},
   "outputs": [],
   "source": [
    "np.max(scores)"
   ]
  },
  {
   "cell_type": "markdown",
   "metadata": {},
   "source": [
    "### Tracking Convergence"
   ]
  },
  {
   "cell_type": "code",
   "execution_count": null,
   "metadata": {},
   "outputs": [],
   "source": [
    "plt.figure(0, figsize=(16,7))\n",
    "\n",
    "if (len(States_track[(3,6,2)][(3,1)]) != 0):\n",
    "    xaxis = np.asarray(range(0, len(States_track[(3,6,2)][(3,1)] [0])))\n",
    "    plt.subplot(241)\n",
    "    plt.plot(xaxis,np.asarray(States_track[(3,6,2)][(3,1)][0]))\n",
    "    plt.show\n",
    "\n",
    "if (len(States_track[(3,22,0)][(5,1)]) != 0):\n",
    "    xaxis = np.asarray(range(0, len(States_track[(3,22,0)][(5,1)] [0])))\n",
    "    plt.subplot(242)\n",
    "    plt.plot(xaxis,np.asarray(States_track[(3,22,0)][(5,1)][0]))\n",
    "    plt.show\n",
    "\n",
    "if (len(States_track[(3,6,2)][(5,1)]) != 0):\n",
    "    xaxis = np.asarray(range(0, len(States_track[(3,6,2)][(5,1)] [0])))\n",
    "    plt.subplot(243)\n",
    "    plt.plot(xaxis,np.asarray(States_track[(3,6,2)][(5,1)][0]))\n",
    "    plt.show\n",
    "\n",
    "if (len(States_track[(1,14,6)][(3,1)]) != 0):\n",
    "    xaxis = np.asarray(range(0, len(States_track[(1,14,6)][(3,1)] [0])))\n",
    "    plt.subplot(244)\n",
    "    plt.plot(xaxis,np.asarray(States_track[(1,14,6)][(3,1)][0]))\n",
    "    plt.show"
   ]
  },
  {
   "cell_type": "code",
   "execution_count": null,
   "metadata": {},
   "outputs": [],
   "source": [
    "States_track"
   ]
  },
  {
   "cell_type": "code",
   "execution_count": null,
   "metadata": {},
   "outputs": [],
   "source": [
    "#plot episode and average rewards\n",
    "plt.plot(list(range(len(avg_rewards))), avg_rewards)\n",
    "plt.xlabel(\"episode number\")\n",
    "plt.ylabel(\"avg_rewards\")\n",
    "plt.show()"
   ]
  },
  {
   "cell_type": "markdown",
   "metadata": {},
   "source": [
    "#### Epsilon-decay sample function"
   ]
  },
  {
   "cell_type": "markdown",
   "metadata": {},
   "source": [
    "<div class=\"alert alert-block alert-info\">\n",
    "Try building a similar epsilon-decay function for your model.\n",
    "</div>"
   ]
  },
  {
   "cell_type": "code",
   "execution_count": null,
   "metadata": {},
   "outputs": [],
   "source": [
    "time = np.arange(0,10000)\n",
    "epsilon = []\n",
    "for i in range(0,10000):\n",
    "    epsilon.append(0 + (1 - 0) * np.exp(-0.0009*i))"
   ]
  },
  {
   "cell_type": "code",
   "execution_count": null,
   "metadata": {},
   "outputs": [],
   "source": [
    "plt.plot(time, epsilon)\n",
    "plt.show()"
   ]
  },
  {
   "cell_type": "code",
   "execution_count": null,
   "metadata": {},
   "outputs": [],
   "source": []
  },
  {
   "cell_type": "code",
   "execution_count": null,
   "metadata": {},
   "outputs": [],
   "source": []
  }
 ],
 "metadata": {
  "kernelspec": {
   "display_name": "Python 3",
   "language": "python",
   "name": "python3"
  },
  "language_info": {
   "codemirror_mode": {
    "name": "ipython",
    "version": 3
   },
   "file_extension": ".py",
   "mimetype": "text/x-python",
   "name": "python",
   "nbconvert_exporter": "python",
   "pygments_lexer": "ipython3",
   "version": "3.9.1"
  }
 },
 "nbformat": 4,
 "nbformat_minor": 4
}
